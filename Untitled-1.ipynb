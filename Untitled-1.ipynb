{
 "cells": [
  {
   "cell_type": "code",
   "execution_count": null,
   "id": "afad5ddf",
   "metadata": {},
   "outputs": [
    {
     "name": "stdout",
     "output_type": "stream",
     "text": [
      "          Producto  Cantidad   Categoria  Codigo  Precio compra  Precio venta\n",
      "0           Sandia        10       Fruta     100         1200.0        1680.0\n",
      "1            Mango        16       Fruta     101         1275.0        1785.0\n",
      "2            Leche        15      Bebida     102         1530.0        2142.0\n",
      "3   Papel higenico        11      Higene     103         5965.0        8351.0\n",
      "4       Detergente        10    Limpieza     104         6935.0        9709.0\n",
      "5            Arroz        40      Cereal     105         1895.0        2653.0\n",
      "6         Cebollin        10     Vegetal     106          650.0         910.0\n",
      "7      NutriSource        11     Mascota     107        15345.0       21483.0\n",
      "8           Helado        20  Refrigerio     108         5995.0        8393.0\n",
      "9             Pera         8       Fruta     109         1000.0        1400.0\n",
      "10           Melon        40       Fruta     110         6000.0        8400.0\n",
      "Hola\n"
     ]
    }
   ],
   "source": [
    "# import archivo as a\n",
    "\n",
    "# print(a.leer_inventario_csv())\n",
    "# print(\"Hola\")"
   ]
  },
  {
   "cell_type": "code",
   "execution_count": null,
   "id": "5c11ac8b",
   "metadata": {},
   "outputs": [
    {
     "name": "stdout",
     "output_type": "stream",
     "text": [
      "{'Yi': '1234'}\n"
     ]
    }
   ],
   "source": [
    "# import getpass\n",
    "# usuarios = {}\n",
    "# nombre = input(\"Ingresa el nombre de usuario: \")\n",
    "# contrasena = getpass.getpass(\"Ingresa la contraseña (no se mostrará): \")\n",
    "# usuarios[nombre] = contrasena\n",
    "# print(usuarios)"
   ]
  },
  {
   "cell_type": "code",
   "execution_count": null,
   "id": "d923c680",
   "metadata": {},
   "outputs": [
    {
     "ename": "ValueError",
     "evalue": "could not convert string to float: ''",
     "output_type": "error",
     "traceback": [
      "\u001b[1;31m---------------------------------------------------------------------------\u001b[0m",
      "\u001b[1;31mValueError\u001b[0m                                Traceback (most recent call last)",
      "Cell \u001b[1;32mIn[3], line 3\u001b[0m\n\u001b[0;32m      1\u001b[0m \u001b[38;5;28;01mfrom\u001b[39;00m\u001b[38;5;250m \u001b[39m\u001b[38;5;21;01mproducto\u001b[39;00m\u001b[38;5;250m \u001b[39m\u001b[38;5;28;01mimport\u001b[39;00m agregar_articulo\n\u001b[1;32m----> 3\u001b[0m \u001b[38;5;28mprint\u001b[39m(\u001b[43magregar_articulo\u001b[49m\u001b[43m(\u001b[49m\u001b[43m)\u001b[49m)\n",
      "File \u001b[1;32mc:\\Users\\v-yliulin\\OneDrive - Microsoft\\Documents\\pulperia\\producto.py:9\u001b[0m, in \u001b[0;36magregar_articulo\u001b[1;34m()\u001b[0m\n\u001b[0;32m      7\u001b[0m cantidad_producto \u001b[38;5;241m=\u001b[39m \u001b[38;5;28minput\u001b[39m(\u001b[38;5;124m\"\u001b[39m\u001b[38;5;124mDigite la cantiad del producto: \u001b[39m\u001b[38;5;124m\"\u001b[39m)\n\u001b[0;32m      8\u001b[0m agregar_categoria\u001b[38;5;241m=\u001b[39m  \u001b[38;5;28minput\u001b[39m(\u001b[38;5;124m\"\u001b[39m\u001b[38;5;124mDigite la categoria del producto: \u001b[39m\u001b[38;5;124m\"\u001b[39m)\n\u001b[1;32m----> 9\u001b[0m precio_compra \u001b[38;5;241m=\u001b[39m \u001b[38;5;28;43mfloat\u001b[39;49m\u001b[43m(\u001b[49m\u001b[38;5;28;43minput\u001b[39;49m\u001b[43m(\u001b[49m\u001b[38;5;124;43m\"\u001b[39;49m\u001b[38;5;124;43mDigite el precio de compra: \u001b[39;49m\u001b[38;5;124;43m\"\u001b[39;49m\u001b[43m)\u001b[49m\u001b[43m)\u001b[49m\n\u001b[0;32m     10\u001b[0m precio_venta \u001b[38;5;241m=\u001b[39m (precio_compra \u001b[38;5;241m*\u001b[39m \u001b[38;5;241m0.4\u001b[39m) \u001b[38;5;241m+\u001b[39m precio_compra\n\u001b[0;32m     11\u001b[0m \u001b[38;5;66;03m#Guardar en producto nuevo en inventario\u001b[39;00m\n",
      "\u001b[1;31mValueError\u001b[0m: could not convert string to float: ''"
     ]
    }
   ],
   "source": [
    "# from producto import agregar_articulo\n",
    "\n",
    "# print(agregar_articulo())"
   ]
  },
  {
   "cell_type": "code",
   "execution_count": null,
   "id": "ad1d8d04",
   "metadata": {},
   "outputs": [
    {
     "name": "stdout",
     "output_type": "stream",
     "text": [
      "          Producto  Cantidad   Cateogria  Codigo  Precio compra  Precio venta\n",
      "0           Sandia        10       Fruta     100         1200.0        1680.0\n",
      "1            Mango        16       Fruta     101         1275.0        1785.0\n",
      "2            Leche        15      Bebida     102         1530.0        2142.0\n",
      "3   Papel higenico        11      Higene     103         5965.0        8351.0\n",
      "4       Detergente        10    Limpieza     104         6935.0        9709.0\n",
      "5            Arroz        40      Cereal     105         1895.0        2653.0\n",
      "6         Cebollin        10     Vegetal     106          650.0         910.0\n",
      "7      NutriSource        11     Mascota     107        15345.0       21483.0\n",
      "8           Helado        20  Refrigerio     108         5995.0        8393.0\n",
      "9             pera        12       Fruta     109         1000.0        1400.0\n",
      "10         Naranja        45       Fruta     110         3000.0        4200.0\n",
      "El producto se ha eliminado con exito\n",
      "None\n"
     ]
    }
   ],
   "source": [
    "# from remover import remover_producto\n",
    "\n",
    "# print(remover_producto())"
   ]
  },
  {
   "cell_type": "code",
   "execution_count": null,
   "id": "24981791",
   "metadata": {},
   "outputs": [
    {
     "name": "stdout",
     "output_type": "stream",
     "text": [
      "Estos son las siguientes opciones que puede actualizar: \n",
      "1. Actualizar nombre del producto\n",
      "2. Actualizar la cantidad de inventario por venta diaria\n",
      "3. Actualizar la cantidad de inventario por compra diaria\n",
      "4. Actualizar la categoria del producto\n",
      "5. Actualizar el precio de compra del producto\n",
      "Error: El valor debe ser numeral, por favor ingrese el codigo\n",
      "None\n"
     ]
    }
   ],
   "source": [
    "# from actualizar import desplegar_menu_actualizar\n",
    "\n",
    "# print(desplegar_menu_actualizar())"
   ]
  },
  {
   "cell_type": "code",
   "execution_count": null,
   "id": "ed742ea9",
   "metadata": {},
   "outputs": [
    {
     "name": "stdout",
     "output_type": "stream",
     "text": [
      "hubo un error\n"
     ]
    }
   ],
   "source": [
    "\n",
    "# try:\n",
    "#     with open('hola.csv', 'r') as f:\n",
    "#         data = f.read()\n",
    "# except:\n",
    "#     print(\"hubo un error\")    \n"
   ]
  },
  {
   "cell_type": "code",
   "execution_count": null,
   "id": "5c0dd61d",
   "metadata": {},
   "outputs": [
    {
     "ename": "ValueError",
     "evalue": "invalid literal for int() with base 10: 'a'",
     "output_type": "error",
     "traceback": [
      "\u001b[1;31m---------------------------------------------------------------------------\u001b[0m",
      "\u001b[1;31mValueError\u001b[0m                                Traceback (most recent call last)",
      "Cell \u001b[1;32mIn[7], line 1\u001b[0m\n\u001b[1;32m----> 1\u001b[0m opcion \u001b[38;5;241m=\u001b[39m \u001b[38;5;28;43mint\u001b[39;49m\u001b[43m(\u001b[49m\u001b[38;5;28;43minput\u001b[39;49m\u001b[43m(\u001b[49m\u001b[38;5;124;43m\"\u001b[39;49m\u001b[38;5;124;43mDigite una opcion: \u001b[39;49m\u001b[38;5;124;43m\"\u001b[39;49m\u001b[43m)\u001b[49m\u001b[43m)\u001b[49m\n\u001b[0;32m      3\u001b[0m \u001b[38;5;28;01mif\u001b[39;00m opcion \u001b[38;5;241m==\u001b[39m \u001b[38;5;241m1\u001b[39m:\n\u001b[0;32m      4\u001b[0m     \u001b[38;5;28mprint\u001b[39m(\u001b[38;5;124m\"\u001b[39m\u001b[38;5;124mHola\u001b[39m\u001b[38;5;124m\"\u001b[39m)\n",
      "\u001b[1;31mValueError\u001b[0m: invalid literal for int() with base 10: 'a'"
     ]
    }
   ],
   "source": [
    "# opcion = int(input(\"Digite una opcion: \"))\n",
    "\n",
    "# if opcion == 1:\n",
    "#     print(\"Hola\")"
   ]
  },
  {
   "cell_type": "code",
   "execution_count": null,
   "id": "40a7023f",
   "metadata": {},
   "outputs": [
    {
     "name": "stdout",
     "output_type": "stream",
     "text": [
      "Estos son las siguientes opciones que puede actualizar: \n",
      "1. Actualizar nombre del producto\n",
      "2. Actualizar la cantidad de inventario por venta diaria\n",
      "3. Actualizar la cantidad de inventario por compra diaria\n",
      "4. Actualizar la categoria del producto\n",
      "5. Actualizar el precio de compra del producto\n"
     ]
    }
   ],
   "source": [
    "# from actualizar import desplegar_menu_actualizar\n",
    "\n",
    "# desplegar_menu_actualizar()"
   ]
  },
  {
   "cell_type": "code",
   "execution_count": null,
   "id": "04f8619c",
   "metadata": {},
   "outputs": [],
   "source": [
    "# def editar(df, opcion):\n",
    "#     try:\n",
    "#         codigo_producto= int(input(\"Digite el codigo del producto: \"))\n",
    "#         if opcion == \"1\":\n",
    "#             nuevo_nombre_producto = input(\"Digite el nuevo nombre del producto: \")\n",
    "#             df.loc[df['Codigo'] == codigo_producto, ['Producto']] = \\\n",
    "#                 [nuevo_nombre_producto]\n",
    "#             print(\"El nuevo nombre del producto ha sido aplicado con exito\")\n",
    "#         if opcion == \"2\":\n",
    "#             cantidad_resta = int(input(\"Digite la cantidad vendida del producto: \")) \n",
    "#             df.loc[df['Codigo'] == codigo_producto, ['Cantidad']] -= cantidad_resta\n",
    "#             print(\"La cantidad vendida a sido actualizado en el inventario\")\n",
    "#     except ValueError:\n",
    "#         print(\"Error: El valor debe ser una serie de numeros, por favor ingrese el codigo.\")\n",
    "    "
   ]
  },
  {
   "cell_type": "code",
   "execution_count": null,
   "id": "3778486b",
   "metadata": {},
   "outputs": [
    {
     "name": "stdout",
     "output_type": "stream",
     "text": [
      "La cantidad vendida a sido actualizado en el inventario\n"
     ]
    }
   ],
   "source": [
    "# from archivo import leer_inventario_csv\n",
    "\n",
    "# df = leer_inventario_csv()\n",
    "# opcion = input(\"Digite una opcion: \")\n",
    "# if opcion == \"1\": \n",
    "#     editar(df, opcion)\n",
    "# if opcion == \"2\": \n",
    "#     editar(df,opcion)\n",
    "# if opcion == \"3\":\n",
    "#     codigo_producto= int(input(\"Digite el codigo del producto: \"))\n",
    "#     cantidad_suma= int(input(\"Digite la cantidad que quiera agregar al producto: \"))\n",
    "#     df.loc[df['Codigo'] == codigo_producto, ['Cantidad']] += cantidad_suma\n",
    "#     print(\"La cantidad digitada ha sido actualizada en el inventario\")\n",
    "# if opcion == \"4\":\n",
    "#     codigo_producto= int(input(\"Digite el codigo del producto: \"))\n",
    "#     nueva_categoria= input(\"Cual seria la nueva categoria del producto: \")\n",
    "#     df.loc[df['Codigo'] == codigo_producto, ['Categoria']] = \\\n",
    "#         [nueva_categoria]\n",
    "#     print(\"La nueva categoria digitada se ha modificado con exito.\")\n",
    "# if opcion == \"5\":\n",
    "#     codigo_producto= int(input(\"Digite el codigo del producto: \"))\n",
    "#     nuevo_precio_compra= float(input(\"Cual seria el nuevo precio de compra del producto: \"))\n",
    "#     nuevo_precio_venta = (nuevo_precio_compra * 0.4) + nuevo_precio_compra\n",
    "#     df.loc[df['Codigo'] == codigo_producto, ['Precio compra', 'Precio venta']] = \\\n",
    "#         [nuevo_precio_compra, nuevo_precio_venta]\n",
    "#     print(\"El nuevo precio de compra y ven han sido actualizados.\")\n",
    "#     print(df)     \n",
    "# #Guardar datos del inventario\n",
    "# df.to_csv(\"inventario_de_productos.csv\", index=False)\n"
   ]
  },
  {
   "cell_type": "code",
   "execution_count": null,
   "id": "ce91c646",
   "metadata": {},
   "outputs": [
    {
     "name": "stdout",
     "output_type": "stream",
     "text": [
      "Estos son las siguientes opciones que puede actualizar: \n",
      "1. Actualizar nombre del producto\n",
      "2. Actualizar la cantidad de inventario por venta diaria\n",
      "3. Actualizar la cantidad de inventario por compra diaria\n",
      "4. Actualizar la categoria del producto\n",
      "5. Actualizar el precio de compra del producto\n",
      "La cantidad vendida a sido actualizado en el inventario\n",
      "          Producto  Cantidad   Categoria  Codigo  Precio compra  Precio venta\n",
      "0           Sandia        10       Fruta     100         1200.0        1680.0\n",
      "1            Mango        16       Fruta     101         1275.0        1785.0\n",
      "2            Leche        15      Bebida     102         1530.0        2142.0\n",
      "3   Papel higenico        11      Higene     103         5965.0        8351.0\n",
      "4       Detergente        10    Limpieza     104         6935.0        9709.0\n",
      "5            Arroz        40      Cereal     105         1895.0        2653.0\n",
      "6         Cebollin        10     Vegetal     106          650.0         910.0\n",
      "7      NutriSource        11     Mascota     107        15345.0       21483.0\n",
      "8           Helado        20  Refrigerio     108         5995.0        8393.0\n",
      "9             Pera         8       Fruta     109         1000.0        1400.0\n",
      "10           Melon        40       Fruta     110         3000.0        4200.0\n"
     ]
    }
   ],
   "source": [
    "# from actualizar import desplegar_menu_actualizar\n",
    "# from actualizar import editar\n",
    "\n",
    "# desplegar_menu_actualizar()\n",
    "\n"
   ]
  },
  {
   "cell_type": "code",
   "execution_count": null,
   "id": "ea7b589b",
   "metadata": {},
   "outputs": [
    {
     "name": "stdout",
     "output_type": "stream",
     "text": [
      "Hola Yi\n",
      "Por favor selecciona la opcion de servicio\n",
      "False\n"
     ]
    },
    {
     "ename": "SyntaxError",
     "evalue": "'return' outside function (2561653055.py, line 3)",
     "output_type": "error",
     "traceback": [
      "\u001b[1;36m  Cell \u001b[1;32mIn[3], line 3\u001b[1;36m\u001b[0m\n\u001b[1;33m    return\u001b[0m\n\u001b[1;37m    ^\u001b[0m\n\u001b[1;31mSyntaxError\u001b[0m\u001b[1;31m:\u001b[0m 'return' outside function\n"
     ]
    }
   ],
   "source": [
    "# from login import iniciar_sesion\n",
    "# print(iniciar_sesion()==True)\n",
    "# return"
   ]
  },
  {
   "cell_type": "code",
   "execution_count": 25,
   "id": "9aa6e07a",
   "metadata": {},
   "outputs": [
    {
     "name": "stdout",
     "output_type": "stream",
     "text": [
      "Sun Mon Tue Wed Thu Fri Sat\n"
     ]
    }
   ],
   "source": [
    "import calendar\n",
    "\n",
    "calendar.setfirstweekday(calendar.SUNDAY)\n",
    "print(calendar.weekheader(3))\n",
    "\n"
   ]
  },
  {
   "cell_type": "code",
   "execution_count": 4,
   "id": "9bc845f6",
   "metadata": {},
   "outputs": [
    {
     "name": "stdout",
     "output_type": "stream",
     "text": [
      "  Producto  Cantidad Categoria  Codigo  Precio compra  Precio venta\n",
      "1    Mango        16     Fruta     101         1275.0        1785.0\n",
      "2    Leche        15    Bebida     102         1530.0        2142.0\n"
     ]
    }
   ],
   "source": [
    "from buscar import find_product_details\n",
    "from archivo import leer_inventario_csv\n",
    "\n",
    "leer_inventario_csv()\n",
    "find_product_details(\"Mango\",102)"
   ]
  },
  {
   "cell_type": "code",
   "execution_count": 2,
   "id": "733f861b",
   "metadata": {},
   "outputs": [],
   "source": [
    "from archivo import leer_inventario_csv\n",
    "import pandas as pd"
   ]
  },
  {
   "cell_type": "code",
   "execution_count": 2,
   "id": "de05b95f",
   "metadata": {},
   "outputs": [
    {
     "name": "stdout",
     "output_type": "stream",
     "text": [
      "Es hora de que comprar estos productos nuevamente\n",
      "   Producto  Cantidad\n",
      "11  Durazno         3\n",
      "12  Naranja         2\n"
     ]
    }
   ],
   "source": [
    "from archivo import leer_inventario_csv\n",
    "import pandas as pd\n",
    "\n",
    "    # Cargar el archivo\n",
    "df = leer_inventario_csv()\n",
    "    # Filtrar producto por cantidad < 5\n",
    "filtered_df = df[df['Cantidad'] < 5]\n",
    "    # Mostrar solo el nombre del proudcto y la cantidad\n",
    "result = filtered_df[['Producto', 'Cantidad']]\n",
    "    # Mostrar resultado\n",
    "print(\"Es hora de que comprar estos productos nuevamente\")\n",
    "print(result)"
   ]
  }
 ],
 "metadata": {
  "kernelspec": {
   "display_name": "Python 3",
   "language": "python",
   "name": "python3"
  },
  "language_info": {
   "codemirror_mode": {
    "name": "ipython",
    "version": 3
   },
   "file_extension": ".py",
   "mimetype": "text/x-python",
   "name": "python",
   "nbconvert_exporter": "python",
   "pygments_lexer": "ipython3",
   "version": "3.12.10"
  }
 },
 "nbformat": 4,
 "nbformat_minor": 5
}
