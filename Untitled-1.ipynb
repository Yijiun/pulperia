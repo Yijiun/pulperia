{
 "cells": [
  {
   "cell_type": "code",
   "execution_count": null,
   "id": "afad5ddf",
   "metadata": {},
   "outputs": [],
   "source": [
    "import archivo as a\n",
    "\n",
    "print(a.leer_inventario_csv())"
   ]
  },
  {
   "cell_type": "code",
   "execution_count": 4,
   "id": "5c11ac8b",
   "metadata": {},
   "outputs": [
    {
     "name": "stdout",
     "output_type": "stream",
     "text": [
      "{'a': '123'}\n"
     ]
    }
   ],
   "source": [
    "import getpass\n",
    "usuarios = {}\n",
    "nombre = input(\"Ingresa el nombre de usuario: \")\n",
    "contrasena = getpass.getpass(\"Ingresa la contraseña (no se mostrará): \")\n",
    "usuarios[nombre] = contrasena\n",
    "print(usuarios)"
   ]
  },
  {
   "cell_type": "code",
   "execution_count": 1,
   "id": "d923c680",
   "metadata": {},
   "outputs": [
    {
     "name": "stdout",
     "output_type": "stream",
     "text": [
      "Se guardo con exito\n",
      "None\n"
     ]
    }
   ],
   "source": [
    "from producto import agregar_articulo\n",
    "\n",
    "print(agregar_articulo())"
   ]
  }
 ],
 "metadata": {
  "kernelspec": {
   "display_name": "Python 3",
   "language": "python",
   "name": "python3"
  },
  "language_info": {
   "codemirror_mode": {
    "name": "ipython",
    "version": 3
   },
   "file_extension": ".py",
   "mimetype": "text/x-python",
   "name": "python",
   "nbconvert_exporter": "python",
   "pygments_lexer": "ipython3",
   "version": "3.12.10"
  }
 },
 "nbformat": 4,
 "nbformat_minor": 5
}
